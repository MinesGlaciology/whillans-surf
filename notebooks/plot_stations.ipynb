{
 "cells": [
  {
   "cell_type": "code",
   "execution_count": null,
   "id": "d7f73882",
   "metadata": {},
   "outputs": [],
   "source": [
    "# Zachary Katz\n",
    "# zachary_katz@mines.edu\n",
    "# 5 May 2025"
   ]
  }
 ],
 "metadata": {
  "language_info": {
   "name": "python"
  }
 },
 "nbformat": 4,
 "nbformat_minor": 5
}
